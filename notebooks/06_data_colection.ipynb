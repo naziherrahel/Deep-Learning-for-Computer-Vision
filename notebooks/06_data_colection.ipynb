{
  "nbformat": 4,
  "nbformat_minor": 0,
  "metadata": {
    "colab": {
      "provenance": [],
      "gpuType": "T4"
    },
    "kernelspec": {
      "name": "python3",
      "display_name": "Python 3"
    },
    "accelerator": "GPU"
  },
  "cells": [
    {
      "cell_type": "markdown",
      "source": [
        "\n",
        "## 👋🏽 What's up! It's Nazih\n",
        "\n",
        "I'll be guiding you through this notebook. At any point, if you get stuck or have questions, there are three ways to get in touch:\n",
        "\n",
        "1) Send me an email with your issue: naziherrahel@gmail.com\n",
        "\n",
        "2) approach me after the class, and let me know what your question is.\n",
        "\n",
        "3) or by texting me in telegram @naziher ✅\n",
        "\n",
        "\n",
        "Let's get to it...\n",
        "\n",
        "\n"
      ],
      "metadata": {
        "id": "nvv0E3anGF4Y"
      }
    },
    {
      "cell_type": "code",
      "source": [
        "%%capture\n",
        "!pip install simple_image_download\n"
      ],
      "metadata": {
        "id": "QC2vdhYx2HDz"
      },
      "execution_count": null,
      "outputs": []
    },
    {
      "cell_type": "code",
      "source": [
        "import numpy as np\n",
        "import pandas as pd\n",
        "from pathlib import Path\n",
        "# from xml.dom.minidom import parse\n",
        "from shutil import copyfile\n",
        "import os\n",
        "import shutil\n",
        "import zipfile\n",
        "from collections import defaultdict\n",
        "import matplotlib.pyplot as plt\n",
        "from IPython.display import Image, clear_output\n",
        "import plotly.express as px\n",
        "from PIL import Image\n"
      ],
      "metadata": {
        "id": "PaXn54oSXnua"
      },
      "execution_count": null,
      "outputs": []
    },
    {
      "cell_type": "code",
      "source": [
        "from google.colab import drive\n",
        "drive.mount('/content/drive')"
      ],
      "metadata": {
        "colab": {
          "base_uri": "https://localhost:8080/"
        },
        "id": "KDu8nbilO79l",
        "outputId": "f89ccb3b-5907-4adc-9fca-ed114ad57da2"
      },
      "execution_count": null,
      "outputs": [
        {
          "output_type": "stream",
          "name": "stdout",
          "text": [
            "Mounted at /content/drive\n"
          ]
        }
      ]
    },
    {
      "cell_type": "markdown",
      "source": [
        "##Collecting data\n",
        "**In case you dont have data or you want to collect data from scratch**\n"
      ],
      "metadata": {
        "id": "bHmiR7npIjN5"
      }
    },
    {
      "cell_type": "markdown",
      "source": [
        "🔥 In order to collect our data we used a Google image downloader\n",
        "[library ](https://pypi.org/project/simple-image-download/)"
      ],
      "metadata": {
        "id": "NjN-N0s4O8sU"
      }
    },
    {
      "cell_type": "code",
      "source": [
        "from simple_image_download import simple_image_download as simp\n",
        "\n",
        "def download_images(keywords, num_images_per_keyword):\n",
        "    response = simp.simple_image_download\n",
        "\n",
        "    for kw in keywords:\n",
        "        try:\n",
        "            response().download(kw, num_images_per_keyword)\n",
        "        except Exception as e:\n",
        "            print(f\"Error downloading images for '{kw}': {str(e)}\")\n",
        "\n",
        "if __name__ == \"__main__\":\n",
        "    keywords = ['building workers']\n",
        "    num_images_per_keyword = 35\n",
        "\n",
        "    download_images(keywords, num_images_per_keyword)\n"
      ],
      "metadata": {
        "id": "85LMlRw3OYYz"
      },
      "execution_count": null,
      "outputs": []
    },
    {
      "cell_type": "markdown",
      "source": [
        "💾 Here we are downloading our collected images to our desktop so we can start the\n",
        "annotation using our annotation tool from our previous PPT [MakeSense AI](https://www.makesense.ai/)⚡\n",
        "\n",
        "\n"
      ],
      "metadata": {
        "id": "FTBuLDGJJXOC"
      }
    },
    {
      "cell_type": "code",
      "source": [
        "# Replace 'source_directory' with the path of the directory you want to download\n",
        "source_directory = '/content/simple_images/building workers'\n",
        "\n",
        "# Replace 'output_filename' with the desired name for the ZIP file\n",
        "output_filename = 'downloaded_directory.zip'\n",
        "\n",
        "# Create a ZIP archive of the source directory\n",
        "shutil.make_archive(output_filename.split('.')[0], 'zip', source_directory)\n",
        "\n",
        "# Provide a download link for the ZIP file\n",
        "from google.colab import files\n",
        "files.download(output_filename)\n"
      ],
      "metadata": {
        "colab": {
          "base_uri": "https://localhost:8080/",
          "height": 17
        },
        "id": "pBu1nK91Ng4F",
        "outputId": "288dfe93-8e52-4b2b-8590-862e0d8246f7"
      },
      "execution_count": null,
      "outputs": [
        {
          "output_type": "display_data",
          "data": {
            "text/plain": [
              "<IPython.core.display.Javascript object>"
            ],
            "application/javascript": [
              "\n",
              "    async function download(id, filename, size) {\n",
              "      if (!google.colab.kernel.accessAllowed) {\n",
              "        return;\n",
              "      }\n",
              "      const div = document.createElement('div');\n",
              "      const label = document.createElement('label');\n",
              "      label.textContent = `Downloading \"${filename}\": `;\n",
              "      div.appendChild(label);\n",
              "      const progress = document.createElement('progress');\n",
              "      progress.max = size;\n",
              "      div.appendChild(progress);\n",
              "      document.body.appendChild(div);\n",
              "\n",
              "      const buffers = [];\n",
              "      let downloaded = 0;\n",
              "\n",
              "      const channel = await google.colab.kernel.comms.open(id);\n",
              "      // Send a message to notify the kernel that we're ready.\n",
              "      channel.send({})\n",
              "\n",
              "      for await (const message of channel.messages) {\n",
              "        // Send a message to notify the kernel that we're ready.\n",
              "        channel.send({})\n",
              "        if (message.buffers) {\n",
              "          for (const buffer of message.buffers) {\n",
              "            buffers.push(buffer);\n",
              "            downloaded += buffer.byteLength;\n",
              "            progress.value = downloaded;\n",
              "          }\n",
              "        }\n",
              "      }\n",
              "      const blob = new Blob(buffers, {type: 'application/binary'});\n",
              "      const a = document.createElement('a');\n",
              "      a.href = window.URL.createObjectURL(blob);\n",
              "      a.download = filename;\n",
              "      div.appendChild(a);\n",
              "      a.click();\n",
              "      div.remove();\n",
              "    }\n",
              "  "
            ]
          },
          "metadata": {}
        },
        {
          "output_type": "display_data",
          "data": {
            "text/plain": [
              "<IPython.core.display.Javascript object>"
            ],
            "application/javascript": [
              "download(\"download_163ef3dc-2446-49fd-85ed-f450f5893725\", \"downloaded_directory.zip\", 11788692)"
            ]
          },
          "metadata": {}
        }
      ]
    },
    {
      "cell_type": "code",
      "source": [
        "# Replace 'source_directory' with the path of our dataset\n",
        "source_directory = '/content/simple_images'\n",
        "\n",
        "# Replace 'output_filename' with the desired name for the ZIP file\n",
        "output_filename = 'dataset.zip'\n",
        "\n",
        "# Create a ZIP archive of the source directory\n",
        "shutil.make_archive(output_filename.split('.')[0], 'zip', source_directory)\n",
        "\n",
        "# Provide a download link for the ZIP file\n",
        "from google.colab import files\n",
        "files.download(output_filename)\n"
      ],
      "metadata": {
        "colab": {
          "base_uri": "https://localhost:8080/",
          "height": 17
        },
        "id": "HZzndt-uoTZA",
        "outputId": "9fd46938-528b-4548-8b17-86e28335b49f"
      },
      "execution_count": null,
      "outputs": [
        {
          "output_type": "display_data",
          "data": {
            "text/plain": [
              "<IPython.core.display.Javascript object>"
            ],
            "application/javascript": [
              "\n",
              "    async function download(id, filename, size) {\n",
              "      if (!google.colab.kernel.accessAllowed) {\n",
              "        return;\n",
              "      }\n",
              "      const div = document.createElement('div');\n",
              "      const label = document.createElement('label');\n",
              "      label.textContent = `Downloading \"${filename}\": `;\n",
              "      div.appendChild(label);\n",
              "      const progress = document.createElement('progress');\n",
              "      progress.max = size;\n",
              "      div.appendChild(progress);\n",
              "      document.body.appendChild(div);\n",
              "\n",
              "      const buffers = [];\n",
              "      let downloaded = 0;\n",
              "\n",
              "      const channel = await google.colab.kernel.comms.open(id);\n",
              "      // Send a message to notify the kernel that we're ready.\n",
              "      channel.send({})\n",
              "\n",
              "      for await (const message of channel.messages) {\n",
              "        // Send a message to notify the kernel that we're ready.\n",
              "        channel.send({})\n",
              "        if (message.buffers) {\n",
              "          for (const buffer of message.buffers) {\n",
              "            buffers.push(buffer);\n",
              "            downloaded += buffer.byteLength;\n",
              "            progress.value = downloaded;\n",
              "          }\n",
              "        }\n",
              "      }\n",
              "      const blob = new Blob(buffers, {type: 'application/binary'});\n",
              "      const a = document.createElement('a');\n",
              "      a.href = window.URL.createObjectURL(blob);\n",
              "      a.download = filename;\n",
              "      div.appendChild(a);\n",
              "      a.click();\n",
              "      div.remove();\n",
              "    }\n",
              "  "
            ]
          },
          "metadata": {}
        },
        {
          "output_type": "display_data",
          "data": {
            "text/plain": [
              "<IPython.core.display.Javascript object>"
            ],
            "application/javascript": [
              "download(\"download_b1495294-fcfa-4364-acf8-67363a9680f2\", \"dataset.zip\", 25817277)"
            ]
          },
          "metadata": {}
        }
      ]
    },
    {
      "cell_type": "markdown",
      "source": [
        "---\n",
        "#Converting our image format to jpg:\n",
        "\n",
        "⏯ while building a dataset, you will end up collecting 100to 1000 of images, which is a raw data from the internet, we need to clean it and delete what's is not proper for our task, and in our case we collected images with defferent format. and to handle this essue we write a script to convert the image format to jpg format ⚓\n",
        "---\n"
      ],
      "metadata": {
        "id": "kDPZkeYWJfhv"
      }
    },
    {
      "cell_type": "code",
      "source": [
        "# Define the directory containing images\n",
        "image_dir = '/content/drive/MyDrive/images'\n",
        "\n",
        "# List all files in the directory\n",
        "files = os.listdir(image_dir)\n",
        "\n",
        "# Iterate through the files and rename them to .jpg\n",
        "for file in files:\n",
        "    if file.lower().endswith(('.jpeg', '.png')):\n",
        "        new_name = os.path.splitext(file)[0] + '.jpg'  # Change the extension to .jpg\n",
        "        os.rename(os.path.join(image_dir, file), os.path.join(image_dir, new_name))\n",
        "\n",
        "print(\"File extensions modified to .jpg.\")\n"
      ],
      "metadata": {
        "colab": {
          "base_uri": "https://localhost:8080/"
        },
        "id": "1tEFfBkvzIIg",
        "outputId": "e38ef8e0-516b-4041-e85e-da89c83bc618"
      },
      "execution_count": null,
      "outputs": [
        {
          "output_type": "stream",
          "name": "stdout",
          "text": [
            "File extensions modified to .jpg.\n"
          ]
        }
      ]
    },
    {
      "cell_type": "markdown",
      "source": [
        "#Splitting our dataset"
      ],
      "metadata": {
        "id": "5O4UUwWjI0Hv"
      }
    },
    {
      "cell_type": "code",
      "source": [
        "from sklearn.model_selection import train_test_split\n",
        "\n",
        "# Define input directories\n",
        "input_images_dir = '/content/drive/MyDrive/images'  # Directory containing images in Google Drive\n",
        "input_labels_dir = '/content/drive/MyDrive/labels'  # Directory containing labels in Google Drive\n",
        "\n",
        "# Create output directories\n",
        "output_base_dir = '/content/dataset'  # Output directory where split data will be stored\n",
        "\n",
        "# Define subdirectories\n",
        "subdirs = ['images', 'labels']\n",
        "categories = ['train', 'val', 'test']\n",
        "\n",
        "for category in categories:\n",
        "    for subdir in subdirs:\n",
        "        os.makedirs(os.path.join(output_base_dir, category, subdir), exist_ok=True)\n",
        "\n",
        "# Get a list of image files with \".jpeg\" extension\n",
        "image_files = [f for f in os.listdir(input_images_dir) if f.endswith('.jpg')]\n",
        "\n",
        "# Split the data into train, validation, and test sets using sklearn\n",
        "# The 'stratify' option ensures that the class distribution is maintained\n",
        "train_files, val_test_files = train_test_split(image_files, test_size=0.4, random_state=42, stratify=None)\n",
        "val_files, test_files = train_test_split(val_test_files, test_size=0.5, random_state=42, stratify=None)\n",
        "\n",
        "# Function to copy image and label files if they exist\n",
        "def copy_image_label_pairs(files, source_image_dir, source_label_dir, dest_image_dir, dest_label_dir):\n",
        "    for file_name in files:\n",
        "        image_file_path = os.path.join(source_image_dir, file_name)\n",
        "        label_file_name = file_name.replace('.jpg', '.txt')\n",
        "        label_file_path = os.path.join(source_label_dir, label_file_name)\n",
        "        if os.path.exists(image_file_path) and os.path.exists(label_file_path):\n",
        "            shutil.copy(image_file_path, os.path.join(dest_image_dir, file_name))\n",
        "            shutil.copy(label_file_path, os.path.join(dest_label_dir, label_file_name))\n",
        "            print(f\"Copied {file_name} and its corresponding label to {dest_image_dir} and {dest_label_dir}.\")\n",
        "\n",
        "# Copy image and label pairs to respective directories (if files exist)\n",
        "copy_image_label_pairs(train_files, input_images_dir, input_labels_dir, os.path.join(output_base_dir, 'train', 'images'), os.path.join(output_base_dir, 'train', 'labels'))\n",
        "copy_image_label_pairs(val_files, input_images_dir, input_labels_dir, os.path.join(output_base_dir, 'val', 'images'), os.path.join(output_base_dir, 'val', 'labels'))\n",
        "copy_image_label_pairs(test_files, input_images_dir, input_labels_dir, os.path.join(output_base_dir, 'test', 'images'), os.path.join(output_base_dir, 'test', 'labels'))\n",
        "\n",
        "print(f\"Splitting completed: {len(train_files)} training images, {len(val_files)} validation images, {len(test_files)} test images.\")\n"
      ],
      "metadata": {
        "id": "kjlKzSNcu8hI",
        "colab": {
          "base_uri": "https://localhost:8080/"
        },
        "outputId": "ee5180d1-0c01-4f4c-f2f4-37888bf7e01e"
      },
      "execution_count": null,
      "outputs": [
        {
          "output_type": "stream",
          "name": "stdout",
          "text": [
            "Copied building workers_19.jpg and its corresponding label to /content/dataset/train/images and /content/dataset/train/labels.\n",
            "Copied building workers_12.jpg and its corresponding label to /content/dataset/train/images and /content/dataset/train/labels.\n",
            "Copied building workers_22.jpg and its corresponding label to /content/dataset/train/images and /content/dataset/train/labels.\n",
            "Copied building workers_15.jpg and its corresponding label to /content/dataset/train/images and /content/dataset/train/labels.\n",
            "Copied building workers_14.jpg and its corresponding label to /content/dataset/train/images and /content/dataset/train/labels.\n",
            "Copied building workers_17.jpg and its corresponding label to /content/dataset/train/images and /content/dataset/train/labels.\n",
            "Copied building workers_21.jpg and its corresponding label to /content/dataset/val/images and /content/dataset/val/labels.\n",
            "Copied building workers_16.jpg and its corresponding label to /content/dataset/val/images and /content/dataset/val/labels.\n",
            "Copied building workers_11.jpg and its corresponding label to /content/dataset/test/images and /content/dataset/test/labels.\n",
            "Copied building workers_10.jpg and its corresponding label to /content/dataset/test/images and /content/dataset/test/labels.\n",
            "Splitting completed: 6 training images, 2 validation images, 2 test images.\n"
          ]
        }
      ]
    },
    {
      "cell_type": "markdown",
      "source": [
        "---\n",
        "📊 **In order to understand how your data is distributed we need to visualize it so we check which class is presented more and which one is less**  ⚖\n",
        "---\n",
        "\n"
      ],
      "metadata": {
        "id": "MJKN5GyNLxb0"
      }
    },
    {
      "cell_type": "code",
      "source": [
        "import matplotlib.pyplot as plt\n",
        "from collections import defaultdict\n",
        "# ploting the classes accurence in the data using the classes indexes\n",
        "\n",
        "def count_class_occurrences_txt(annotation_dirs, classes):\n",
        "    class_counts = defaultdict(int)\n",
        "\n",
        "    # Iterate through the annotation directories\n",
        "    for annotation_dir in annotation_dirs:\n",
        "        # Iterate through the text annotation files in the specified directory\n",
        "        for filename in os.listdir(annotation_dir):\n",
        "            if filename.endswith('.txt'):\n",
        "                txt_path = os.path.join(annotation_dir, filename)\n",
        "\n",
        "                # Read the lines from the text file\n",
        "                with open(txt_path, 'r') as file:\n",
        "                    lines = file.readlines()\n",
        "\n",
        "                # Extract class IDs from each line and map them to class names\n",
        "                for line in lines:\n",
        "                    parts = line.strip().split()\n",
        "                    if parts:  # Ensure the line is not empty\n",
        "                        class_id = int(parts[0])\n",
        "                        if 0 <= class_id < len(classes):\n",
        "                            class_name = classes[class_id]\n",
        "                            class_counts[class_name] += 1\n",
        "\n",
        "    return dict(class_counts)\n"
      ],
      "metadata": {
        "id": "qbS-izDELuOH"
      },
      "execution_count": null,
      "outputs": []
    },
    {
      "cell_type": "markdown",
      "source": [
        "#Data Visualisation 🦾"
      ],
      "metadata": {
        "id": "d71VJtBTL2kV"
      }
    },
    {
      "cell_type": "code",
      "source": [
        "annotation_directories =  ['/content/dataset/train/labels', '/content/dataset/val/labels', '/content/dataset/test/labels']\n",
        "\n",
        "#here you should use your own classes\n",
        "class_list = ['helmet', 'vest']\n",
        "\n",
        "class_occurrences = count_class_occurrences_txt(annotation_directories, class_list)\n",
        "\n",
        "# Create a bar plot to visualize class occurrences\n",
        "plt.figure(figsize=(12, 6))\n",
        "plt.bar(class_occurrences.keys(), class_occurrences.values())\n",
        "plt.xlabel('Classes')\n",
        "plt.ylabel('Number of Annotations')\n",
        "plt.title('Class Distribution in the Dataset')\n",
        "plt.xticks(rotation=45, ha='right')\n",
        "plt.tight_layout()\n",
        "plt.show()"
      ],
      "metadata": {
        "colab": {
          "base_uri": "https://localhost:8080/",
          "height": 474
        },
        "id": "jqprded6L3Y3",
        "outputId": "5be365f1-03eb-4472-9c4a-c66ba776aaa8"
      },
      "execution_count": null,
      "outputs": [
        {
          "output_type": "display_data",
          "data": {
            "text/plain": [
              "<Figure size 1200x600 with 1 Axes>"
            ],
            "image/png": "[encoded data removed]"
          },
          "metadata": {}
        }
      ]
    },
    {
      "cell_type": "code",
      "source": [
        "class_occurrences"
      ],
      "metadata": {
        "colab": {
          "base_uri": "https://localhost:8080/"
        },
        "id": "T6xTzV2S2dI3",
        "outputId": "360d4d59-2255-4e99-9276-5457180767de"
      },
      "execution_count": null,
      "outputs": [
        {
          "output_type": "execute_result",
          "data": {
            "text/plain": [
              "{'helmet': 24, 'vest': 16}"
            ]
          },
          "metadata": {},
          "execution_count": 11
        }
      ]
    },
    {
      "cell_type": "code",
      "source": [
        "# Replace 'source_directory' with the path of our dataset\n",
        "source_directory = '/content/dataset'\n",
        "\n",
        "# Replace 'output_filename' with the desired name for the ZIP file\n",
        "output_filename = 'downloaded_directory.zip'\n",
        "\n",
        "# Create a ZIP archive of the source directory\n",
        "shutil.make_archive(output_filename.split('.')[0], 'zip', source_directory)\n",
        "\n",
        "# Provide a download link for the ZIP file\n",
        "from google.colab import files\n",
        "files.download(output_filename)\n"
      ],
      "metadata": {
        "colab": {
          "base_uri": "https://localhost:8080/",
          "height": 17
        },
        "id": "AZ4ZefpoM-9I",
        "outputId": "626042e2-6e93-4fe7-c7bb-c3d2b464158f"
      },
      "execution_count": null,
      "outputs": [
        {
          "output_type": "display_data",
          "data": {
            "text/plain": [
              "<IPython.core.display.Javascript object>"
            ],
            "application/javascript": [
              "\n",
              "    async function download(id, filename, size) {\n",
              "      if (!google.colab.kernel.accessAllowed) {\n",
              "        return;\n",
              "      }\n",
              "      const div = document.createElement('div');\n",
              "      const label = document.createElement('label');\n",
              "      label.textContent = `Downloading \"${filename}\": `;\n",
              "      div.appendChild(label);\n",
              "      const progress = document.createElement('progress');\n",
              "      progress.max = size;\n",
              "      div.appendChild(progress);\n",
              "      document.body.appendChild(div);\n",
              "\n",
              "      const buffers = [];\n",
              "      let downloaded = 0;\n",
              "\n",
              "      const channel = await google.colab.kernel.comms.open(id);\n",
              "      // Send a message to notify the kernel that we're ready.\n",
              "      channel.send({})\n",
              "\n",
              "      for await (const message of channel.messages) {\n",
              "        // Send a message to notify the kernel that we're ready.\n",
              "        channel.send({})\n",
              "        if (message.buffers) {\n",
              "          for (const buffer of message.buffers) {\n",
              "            buffers.push(buffer);\n",
              "            downloaded += buffer.byteLength;\n",
              "            progress.value = downloaded;\n",
              "          }\n",
              "        }\n",
              "      }\n",
              "      const blob = new Blob(buffers, {type: 'application/binary'});\n",
              "      const a = document.createElement('a');\n",
              "      a.href = window.URL.createObjectURL(blob);\n",
              "      a.download = filename;\n",
              "      div.appendChild(a);\n",
              "      a.click();\n",
              "      div.remove();\n",
              "    }\n",
              "  "
            ]
          },
          "metadata": {}
        },
        {
          "output_type": "display_data",
          "data": {
            "text/plain": [
              "<IPython.core.display.Javascript object>"
            ],
            "application/javascript": [
              "download(\"download_fe128d19-ef3f-485b-bc47-1eb4eae2c2c5\", \"downloaded_directory.zip\", 3859463)"
            ]
          },
          "metadata": {}
        }
      ]
    },
    {
      "cell_type": "markdown",
      "source": [
        "##Downloading our data to our local memory ⌛ 💯"
      ],
      "metadata": {
        "id": "ywowk2LiDBAf"
      }
    },
    {
      "cell_type": "code",
      "source": [
        "!zip -r '/content/your_directory_name.zip'  '/content/sample_data'\n"
      ],
      "metadata": {
        "colab": {
          "base_uri": "https://localhost:8080/"
        },
        "id": "V1UBqrXxCVNU",
        "outputId": "2f593808-d23e-4cc8-a3b4-e4d5ffbb1b3b"
      },
      "execution_count": null,
      "outputs": [
        {
          "output_type": "stream",
          "name": "stdout",
          "text": [
            "  adding: content/sample_data/ (stored 0%)\n",
            "  adding: content/sample_data/anscombe.json (deflated 83%)\n",
            "  adding: content/sample_data/README.md (deflated 42%)\n",
            "  adding: content/sample_data/mnist_train_small.csv (deflated 88%)\n",
            "  adding: content/sample_data/mnist_test.csv (deflated 88%)\n",
            "  adding: content/sample_data/california_housing_train.csv (deflated 79%)\n",
            "  adding: content/sample_data/california_housing_test.csv (deflated 76%)\n"
          ]
        }
      ]
    },
    {
      "cell_type": "code",
      "source": [
        "from google.colab import files\n",
        "files.download('/content/your_directory_name.zip')\n"
      ],
      "metadata": {
        "colab": {
          "base_uri": "https://localhost:8080/",
          "height": 17
        },
        "id": "2UlQWz47CoIm",
        "outputId": "1fad8bac-fe47-4bed-e608-109a0d34e9ad"
      },
      "execution_count": null,
      "outputs": [
        {
          "output_type": "display_data",
          "data": {
            "text/plain": [
              "<IPython.core.display.Javascript object>"
            ],
            "application/javascript": [
              "\n",
              "    async function download(id, filename, size) {\n",
              "      if (!google.colab.kernel.accessAllowed) {\n",
              "        return;\n",
              "      }\n",
              "      const div = document.createElement('div');\n",
              "      const label = document.createElement('label');\n",
              "      label.textContent = `Downloading \"${filename}\": `;\n",
              "      div.appendChild(label);\n",
              "      const progress = document.createElement('progress');\n",
              "      progress.max = size;\n",
              "      div.appendChild(progress);\n",
              "      document.body.appendChild(div);\n",
              "\n",
              "      const buffers = [];\n",
              "      let downloaded = 0;\n",
              "\n",
              "      const channel = await google.colab.kernel.comms.open(id);\n",
              "      // Send a message to notify the kernel that we're ready.\n",
              "      channel.send({})\n",
              "\n",
              "      for await (const message of channel.messages) {\n",
              "        // Send a message to notify the kernel that we're ready.\n",
              "        channel.send({})\n",
              "        if (message.buffers) {\n",
              "          for (const buffer of message.buffers) {\n",
              "            buffers.push(buffer);\n",
              "            downloaded += buffer.byteLength;\n",
              "            progress.value = downloaded;\n",
              "          }\n",
              "        }\n",
              "      }\n",
              "      const blob = new Blob(buffers, {type: 'application/binary'});\n",
              "      const a = document.createElement('a');\n",
              "      a.href = window.URL.createObjectURL(blob);\n",
              "      a.download = filename;\n",
              "      div.appendChild(a);\n",
              "      a.click();\n",
              "      div.remove();\n",
              "    }\n",
              "  "
            ]
          },
          "metadata": {}
        },
        {
          "output_type": "display_data",
          "data": {
            "text/plain": [
              "<IPython.core.display.Javascript object>"
            ],
            "application/javascript": [
              "download(\"download_659a0889-653d-4322-92cf-23d3a96241dd\", \"your_directory_name.zip\", 7064031)"
            ]
          },
          "metadata": {}
        }
      ]
    },
    {
      "cell_type": "markdown",
      "source": [
        "##Copying our data to our google drive if needed"
      ],
      "metadata": {
        "id": "sK-h3YbbC2Id"
      }
    },
    {
      "cell_type": "code",
      "source": [
        "!cp \"/content/downloaded_directory.zip\" \"/content/drive/MyDrive/ИИКб-20/Project Management   /PPT/Nazih Errahel/Master\"\n"
      ],
      "metadata": {
        "id": "KUtygf3g261X"
      },
      "execution_count": null,
      "outputs": []
    }
  ]
}